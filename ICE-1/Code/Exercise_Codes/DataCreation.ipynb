{
 "cells": [
  {
   "cell_type": "code",
   "execution_count": null,
   "metadata": {},
   "outputs": [],
   "source": [
    "# importing required libraries\n",
    "\n",
    "from GoogleNews import GoogleNews\n",
    "from newspaper import Article\n",
    "from newspaper import Config\n",
    "import pandas as pd\n",
    "import nltk"
   ]
  },
  {
   "cell_type": "code",
   "execution_count": null,
   "metadata": {},
   "outputs": [],
   "source": [
    "# Step to configuring browser\n",
    "\n",
    "user_agent = 'Mozilla/5.0 (Macintosh; Intel Mac OS X 10_11_5) AppleWebKit/537.36 (KHTML, like Gecko) Chrome/50.0.2661.102 Safari/537.36'\n",
    "config = Config()\n",
    "config.browser_user_agent = user_agent"
   ]
  },
  {
   "cell_type": "code",
   "execution_count": null,
   "metadata": {},
   "outputs": [],
   "source": [
    "# Search the required  Articles\n",
    "\n",
    "googlenews=GoogleNews(start='01/01/2010',end='05/09/2021')\n",
    "googlenews.search('Autonomous Cars')\n",
    "result=googlenews.result()\n",
    "df=pd.DataFrame(result)"
   ]
  },
  {
   "cell_type": "code",
   "execution_count": null,
   "metadata": {},
   "outputs": [],
   "source": [
    "# fetching the articles \n",
    "\n",
    "for i in range(2,29):\n",
    "    googlenews.getpage(i)\n",
    "    result=googlenews.result()\n",
    "    df=pd.DataFrame(result)"
   ]
  },
  {
   "cell_type": "code",
   "execution_count": null,
   "metadata": {},
   "outputs": [],
   "source": [
    "# removing unavaialble articles\n",
    "update_df = df.drop([42,112,187,200,228])"
   ]
  },
  {
   "cell_type": "code",
   "execution_count": null,
   "metadata": {},
   "outputs": [],
   "source": [
    "# getting the full article and storing in excel\n",
    "lst = []\n",
    "for ind in update_df.index:\n",
    "    d={}\n",
    "    article = Article(update_df['link'][ind],config=config)\n",
    "    article.download()\n",
    "    article.parse()\n",
    "    article.nlp()\n",
    "    d['Date']=update_df['date'][ind]\n",
    "    d['Media']=update_df['media'][ind]\n",
    "    d['Title']=article.title\n",
    "    d['Article']=article.text\n",
    "    d['Summary']=article.summary\n",
    "    lst.append(d)\n",
    "news_df=pd.DataFrame(lst)\n",
    "news_df.to_excel(\"/Users/tissatechnolgy/Desktop/UNTProject/ICE-1/Data/Articles.xlsx\")"
   ]
  },
  {
   "cell_type": "code",
   "execution_count": null,
   "metadata": {},
   "outputs": [],
   "source": [
    "# reading bbc dataset\n",
    "\n",
    "df_bbc = pd.read_csv('/Users/tissatechnolgy/Desktop/UNTProject/ICE-1/Data/News_dataset.csv', sep=';')"
   ]
  },
  {
   "cell_type": "code",
   "execution_count": null,
   "metadata": {},
   "outputs": [],
   "source": [
    "# creating autonomous category\n",
    "news_df['Category'] = 'autonomous car'"
   ]
  },
  {
   "cell_type": "code",
   "execution_count": null,
   "metadata": {},
   "outputs": [],
   "source": [
    "# extracting the required columns and creating a new dataframe\n",
    "df_auto = news_df[['Article','Summary','Category']]\n",
    "df_auto.rename(columns = {'Article':'File_Name','Summary':'Content'},inplace = True)"
   ]
  },
  {
   "cell_type": "code",
   "execution_count": null,
   "metadata": {},
   "outputs": [],
   "source": [
    "# removing tech articles\n",
    "df_bbc = df_bbc[df_bbc['Category'] != 'tech'].reset_index(drop = True)"
   ]
  },
  {
   "cell_type": "code",
   "execution_count": null,
   "metadata": {},
   "outputs": [],
   "source": [
    "# concatenating bbc with autonomous articles\n",
    "frames = [df_auto,df_bbc]\n",
    "df_final_news = pd.DataFrame(pd.concat(frames,ignore_index = True))"
   ]
  },
  {
   "cell_type": "code",
   "execution_count": null,
   "metadata": {},
   "outputs": [],
   "source": [
    "# saving the dataframe to csv\n",
    "df_final_news = df_final_news.to_csv('/Users/tissatechnolgy/Desktop/UNTProject/ICE-1/Data/Dataset.csv')"
   ]
  },
  {
   "cell_type": "code",
   "execution_count": null,
   "metadata": {},
   "outputs": [],
   "source": []
  }
 ],
 "metadata": {
  "kernelspec": {
   "display_name": "Python 3",
   "language": "python",
   "name": "python3"
  },
  "language_info": {
   "codemirror_mode": {
    "name": "ipython",
    "version": 3
   },
   "file_extension": ".py",
   "mimetype": "text/x-python",
   "name": "python",
   "nbconvert_exporter": "python",
   "pygments_lexer": "ipython3",
   "version": "3.8.5"
  }
 },
 "nbformat": 4,
 "nbformat_minor": 4
}
